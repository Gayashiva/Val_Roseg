{
 "cells": [
  {
   "cell_type": "markdown",
   "metadata": {
    "nbpresent": {
     "id": "37bafa9d-bd32-4fb6-ac83-4899d86e02af"
    }
   },
   "source": [
    "### Val Roseg Water Supply\n",
    "The water supply to the fountain was intermittent causing long melt and short freezing periods. Also due to freezing and melting inside the supply pipeline, the fountain water discharge varied a lot."
   ]
  },
  {
   "cell_type": "code",
   "execution_count": 70,
   "metadata": {
    "nbpresent": {
     "id": "d60dcd45-0dfd-4644-8476-0f5848851c2e"
    }
   },
   "outputs": [
    {
     "name": "stdout",
     "output_type": "stream",
     "text": [
      "The autoreload extension is already loaded. To reload it, use:\n",
      "  %reload_ext autoreload\n"
     ]
    }
   ],
   "source": [
    "# -*- coding: utf-8 -*-\n",
    "from __future__ import print_function\n",
    "from __future__ import division\n",
    "import datetime\n",
    "\n",
    "%load_ext autoreload\n",
    "%autoreload 2\n",
    "\n",
    "%matplotlib inline"
   ]
  },
  {
   "cell_type": "code",
   "execution_count": 71,
   "metadata": {
    "nbpresent": {
     "id": "91d63ca3-e029-4e87-b4af-ef7be120d2a7"
    }
   },
   "outputs": [],
   "source": [
    "import pandas as pd\n",
    "import numpy as np\n",
    "from datetime import timedelta,date, time\n",
    "from matplotlib import pyplot as plt\n",
    "def GetTime(sec):\n",
    "    sec = timedelta(seconds=sec)\n",
    "    d = datetime(1,1,1) + sec\n",
    "\n",
    "    print(\"DAYS:HOURS:MIN:SEC\")\n",
    "    print(\"%d:%d:%d:%d\" % (d.day-1, d.hour, d.minute, d.second))"
   ]
  },
  {
   "cell_type": "code",
   "execution_count": 72,
   "metadata": {
    "nbpresent": {
     "id": "c3242a97-af9e-4b02-b714-9ba30e861f57"
    }
   },
   "outputs": [
    {
     "data": {
      "text/html": [
       "<div>\n",
       "<style scoped>\n",
       "    .dataframe tbody tr th:only-of-type {\n",
       "        vertical-align: middle;\n",
       "    }\n",
       "\n",
       "    .dataframe tbody tr th {\n",
       "        vertical-align: top;\n",
       "    }\n",
       "\n",
       "    .dataframe thead th {\n",
       "        text-align: right;\n",
       "    }\n",
       "</style>\n",
       "<table border=\"1\" class=\"dataframe\">\n",
       "  <thead>\n",
       "    <tr style=\"text-align: right;\">\n",
       "      <th></th>\n",
       "      <th>time</th>\n",
       "      <th>temp</th>\n",
       "      <th>rh</th>\n",
       "      <th>ws</th>\n",
       "      <th>height</th>\n",
       "      <th>water</th>\n",
       "    </tr>\n",
       "  </thead>\n",
       "  <tbody>\n",
       "    <tr>\n",
       "      <th>0</th>\n",
       "      <td>2016-11-17 14:00:00</td>\n",
       "      <td>3.43</td>\n",
       "      <td>68.98</td>\n",
       "      <td>1.67</td>\n",
       "      <td>5.378824</td>\n",
       "      <td>1.0</td>\n",
       "    </tr>\n",
       "    <tr>\n",
       "      <th>1</th>\n",
       "      <td>2016-11-17 16:00:00</td>\n",
       "      <td>-0.83</td>\n",
       "      <td>89.60</td>\n",
       "      <td>0.34</td>\n",
       "      <td>5.507915</td>\n",
       "      <td>1.0</td>\n",
       "    </tr>\n",
       "    <tr>\n",
       "      <th>2</th>\n",
       "      <td>2016-11-18 10:00:00</td>\n",
       "      <td>4.74</td>\n",
       "      <td>53.88</td>\n",
       "      <td>2.29</td>\n",
       "      <td>5.400339</td>\n",
       "      <td>1.0</td>\n",
       "    </tr>\n",
       "    <tr>\n",
       "      <th>3</th>\n",
       "      <td>2016-11-18 12:00:00</td>\n",
       "      <td>4.56</td>\n",
       "      <td>56.59</td>\n",
       "      <td>2.42</td>\n",
       "      <td>5.540188</td>\n",
       "      <td>1.0</td>\n",
       "    </tr>\n",
       "    <tr>\n",
       "      <th>4</th>\n",
       "      <td>2016-11-18 14:00:00</td>\n",
       "      <td>1.07</td>\n",
       "      <td>86.50</td>\n",
       "      <td>3.32</td>\n",
       "      <td>5.529431</td>\n",
       "      <td>1.0</td>\n",
       "    </tr>\n",
       "  </tbody>\n",
       "</table>\n",
       "</div>"
      ],
      "text/plain": [
       "                 time  temp     rh    ws    height  water\n",
       "0 2016-11-17 14:00:00  3.43  68.98  1.67  5.378824    1.0\n",
       "1 2016-11-17 16:00:00 -0.83  89.60  0.34  5.507915    1.0\n",
       "2 2016-11-18 10:00:00  4.74  53.88  2.29  5.400339    1.0\n",
       "3 2016-11-18 12:00:00  4.56  56.59  2.42  5.540188    1.0\n",
       "4 2016-11-18 14:00:00  1.07  86.50  3.32  5.529431    1.0"
      ]
     },
     "execution_count": 72,
     "metadata": {},
     "output_type": "execute_result"
    }
   ],
   "source": [
    "df = pd.read_csv('../data/interim/roseg_measurements.csv', parse_dates=['time'])\n",
    "del df['doy']\n",
    "df.head()"
   ]
  },
  {
   "cell_type": "markdown",
   "metadata": {
    "nbpresent": {
     "id": "d63db050-0cd2-47da-bef7-27146090e1a5"
    }
   },
   "source": [
    "### Estimating total water consumption\n",
    "Assuming constant discharge of 1 litre/s or $3.6 m^3/h$"
   ]
  },
  {
   "cell_type": "code",
   "execution_count": 73,
   "metadata": {},
   "outputs": [],
   "source": [
    "df['delta_time'] = (df['time']-df['time'].shift()).fillna(0)\n",
    "df['delta_height'] = (df['height']-df['height'].shift()).fillna(0)\n",
    "df['growth_rate'] = (df['delta_height']*100)/(df['delta_time'].apply(lambda x: x.total_seconds()/3600))\n",
    "df['delta_time']=df['delta_time'].apply(lambda x: x.total_seconds())"
   ]
  },
  {
   "cell_type": "code",
   "execution_count": 74,
   "metadata": {},
   "outputs": [
    {
     "ename": "TypeError",
     "evalue": "%d format: a number is required, not Timedelta",
     "output_type": "error",
     "traceback": [
      "\u001b[0;31m---------------------------------------------------------------------------\u001b[0m",
      "\u001b[0;31mTypeError\u001b[0m                                 Traceback (most recent call last)",
      "\u001b[0;32m<ipython-input-74-5aecc59bb4c5>\u001b[0m in \u001b[0;36m<module>\u001b[0;34m()\u001b[0m\n\u001b[1;32m      1\u001b[0m \u001b[0mdf\u001b[0m\u001b[0;34m[\u001b[0m\u001b[0;34m'water_used'\u001b[0m\u001b[0;34m]\u001b[0m\u001b[0;34m=\u001b[0m\u001b[0mdf\u001b[0m\u001b[0;34m[\u001b[0m\u001b[0;34m'delta_time'\u001b[0m\u001b[0;34m]\u001b[0m\u001b[0;34m*\u001b[0m\u001b[0mdf\u001b[0m\u001b[0;34m[\u001b[0m\u001b[0;34m'water'\u001b[0m\u001b[0;34m]\u001b[0m\u001b[0;34m\u001b[0m\u001b[0m\n\u001b[0;32m----> 2\u001b[0;31m \u001b[0mprint\u001b[0m\u001b[0;34m(\u001b[0m\u001b[0;34m'The fountain worked approximately for %d days from 17th November 2016 to 7th April 2017(in 141 days)'\u001b[0m \u001b[0;34m%\u001b[0m\u001b[0;34m(\u001b[0m\u001b[0mdf\u001b[0m\u001b[0;34m[\u001b[0m\u001b[0;34m'water_used'\u001b[0m\u001b[0;34m]\u001b[0m\u001b[0;34m.\u001b[0m\u001b[0msum\u001b[0m\u001b[0;34m(\u001b[0m\u001b[0;34m)\u001b[0m\u001b[0;34m//\u001b[0m\u001b[0;36m3600\u001b[0m\u001b[0;34m//\u001b[0m\u001b[0;36m24\u001b[0m\u001b[0;34m)\u001b[0m\u001b[0;34m)\u001b[0m\u001b[0;34m\u001b[0m\u001b[0m\n\u001b[0m\u001b[1;32m      3\u001b[0m \u001b[0mprint\u001b[0m\u001b[0;34m(\u001b[0m\u001b[0;34m' %d litres of water used'\u001b[0m \u001b[0;34m%\u001b[0m \u001b[0;34m(\u001b[0m\u001b[0mdf\u001b[0m\u001b[0;34m[\u001b[0m\u001b[0;34m'water_used'\u001b[0m\u001b[0;34m]\u001b[0m\u001b[0;34m.\u001b[0m\u001b[0msum\u001b[0m\u001b[0;34m(\u001b[0m\u001b[0;34m)\u001b[0m\u001b[0;34m)\u001b[0m\u001b[0;34m)\u001b[0m\u001b[0;34m\u001b[0m\u001b[0m\n",
      "\u001b[0;31mTypeError\u001b[0m: %d format: a number is required, not Timedelta"
     ]
    }
   ],
   "source": [
    "df['water_used']=df['delta_time']*df['water']\n",
    "print('The fountain worked approximately for %d days from 17th November 2016 to 7th April 2017(in 141 days)' %(df['water_used'].sum()//3600//24))\n",
    "print(' %d litres of water used' % (df['water_used'].sum()))"
   ]
  },
  {
   "cell_type": "code",
   "execution_count": null,
   "metadata": {},
   "outputs": [],
   "source": [
    "df['water_used']=df['delta_time']*df['water']/3600"
   ]
  },
  {
   "cell_type": "code",
   "execution_count": null,
   "metadata": {},
   "outputs": [],
   "source": [
    "df[['water_used']].plot(figsize=(12,8), grid=True)"
   ]
  },
  {
   "cell_type": "code",
   "execution_count": null,
   "metadata": {},
   "outputs": [],
   "source": []
  }
 ],
 "metadata": {
  "kernelspec": {
   "display_name": "Python [default]",
   "language": "python",
   "name": "python3"
  },
  "language_info": {
   "codemirror_mode": {
    "name": "ipython",
    "version": 3
   },
   "file_extension": ".py",
   "mimetype": "text/x-python",
   "name": "python",
   "nbconvert_exporter": "python",
   "pygments_lexer": "ipython3",
   "version": "3.5.5"
  }
 },
 "nbformat": 4,
 "nbformat_minor": 2
}
