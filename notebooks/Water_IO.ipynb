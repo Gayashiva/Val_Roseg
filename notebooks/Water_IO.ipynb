{
 "cells": [
  {
   "cell_type": "markdown",
   "metadata": {
    "nbpresent": {
     "id": "37bafa9d-bd32-4fb6-ac83-4899d86e02af"
    }
   },
   "source": [
    "### Val Roseg Water Supply\n",
    "The water supply to the fountain was intermittent causing long melt and short freezing periods. Also due to freezing and melting inside the supply pipeline, the fountain water discharge varied a lot.\n",
    "In an ideal scenario, the pipeline discharge can be measured periodically and the fountaiin discharge estimated. Given the unavailability of this data, fountain discharge of 0.5 litre/s was assumed."
   ]
  },
  {
   "cell_type": "code",
   "execution_count": 187,
   "metadata": {
    "nbpresent": {
     "id": "d60dcd45-0dfd-4644-8476-0f5848851c2e"
    }
   },
   "outputs": [
    {
     "name": "stdout",
     "output_type": "stream",
     "text": [
      "The autoreload extension is already loaded. To reload it, use:\n",
      "  %reload_ext autoreload\n"
     ]
    }
   ],
   "source": [
    "# -*- coding: utf-8 -*-\n",
    "from __future__ import print_function\n",
    "from __future__ import division\n",
    "import datetime\n",
    "\n",
    "%load_ext autoreload\n",
    "%autoreload 2\n",
    "\n",
    "%matplotlib inline"
   ]
  },
  {
   "cell_type": "code",
   "execution_count": 188,
   "metadata": {
    "nbpresent": {
     "id": "91d63ca3-e029-4e87-b4af-ef7be120d2a7"
    }
   },
   "outputs": [],
   "source": [
    "import pandas as pd\n",
    "import numpy as np\n",
    "from datetime import timedelta,date, time\n",
    "from matplotlib import pyplot as plt\n",
    "def GetTime(sec):\n",
    "    sec = timedelta(seconds=sec)\n",
    "    d = datetime(1,1,1) + sec\n",
    "\n",
    "    print(\"DAYS:HOURS:MIN:SEC\")\n",
    "    print(\"%d:%d:%d:%d\" % (d.day-1, d.hour, d.minute, d.second))"
   ]
  },
  {
   "cell_type": "code",
   "execution_count": 189,
   "metadata": {
    "nbpresent": {
     "id": "c3242a97-af9e-4b02-b714-9ba30e861f57"
    }
   },
   "outputs": [
    {
     "data": {
      "text/html": [
       "<div>\n",
       "<style scoped>\n",
       "    .dataframe tbody tr th:only-of-type {\n",
       "        vertical-align: middle;\n",
       "    }\n",
       "\n",
       "    .dataframe tbody tr th {\n",
       "        vertical-align: top;\n",
       "    }\n",
       "\n",
       "    .dataframe thead th {\n",
       "        text-align: right;\n",
       "    }\n",
       "</style>\n",
       "<table border=\"1\" class=\"dataframe\">\n",
       "  <thead>\n",
       "    <tr style=\"text-align: right;\">\n",
       "      <th></th>\n",
       "      <th>time</th>\n",
       "      <th>temp</th>\n",
       "      <th>rh</th>\n",
       "      <th>ws</th>\n",
       "      <th>height</th>\n",
       "      <th>water</th>\n",
       "    </tr>\n",
       "  </thead>\n",
       "  <tbody>\n",
       "    <tr>\n",
       "      <th>0</th>\n",
       "      <td>2016-11-17 14:00:00</td>\n",
       "      <td>3.43</td>\n",
       "      <td>68.98</td>\n",
       "      <td>1.67</td>\n",
       "      <td>5.378824</td>\n",
       "      <td>1.0</td>\n",
       "    </tr>\n",
       "    <tr>\n",
       "      <th>1</th>\n",
       "      <td>2016-11-17 16:00:00</td>\n",
       "      <td>-0.83</td>\n",
       "      <td>89.60</td>\n",
       "      <td>0.34</td>\n",
       "      <td>5.507915</td>\n",
       "      <td>1.0</td>\n",
       "    </tr>\n",
       "    <tr>\n",
       "      <th>2</th>\n",
       "      <td>2016-11-18 10:00:00</td>\n",
       "      <td>4.74</td>\n",
       "      <td>53.88</td>\n",
       "      <td>2.29</td>\n",
       "      <td>5.400339</td>\n",
       "      <td>1.0</td>\n",
       "    </tr>\n",
       "    <tr>\n",
       "      <th>3</th>\n",
       "      <td>2016-11-18 12:00:00</td>\n",
       "      <td>4.56</td>\n",
       "      <td>56.59</td>\n",
       "      <td>2.42</td>\n",
       "      <td>5.540188</td>\n",
       "      <td>1.0</td>\n",
       "    </tr>\n",
       "    <tr>\n",
       "      <th>4</th>\n",
       "      <td>2016-11-18 14:00:00</td>\n",
       "      <td>1.07</td>\n",
       "      <td>86.50</td>\n",
       "      <td>3.32</td>\n",
       "      <td>5.529431</td>\n",
       "      <td>1.0</td>\n",
       "    </tr>\n",
       "  </tbody>\n",
       "</table>\n",
       "</div>"
      ],
      "text/plain": [
       "                 time  temp     rh    ws    height  water\n",
       "0 2016-11-17 14:00:00  3.43  68.98  1.67  5.378824    1.0\n",
       "1 2016-11-17 16:00:00 -0.83  89.60  0.34  5.507915    1.0\n",
       "2 2016-11-18 10:00:00  4.74  53.88  2.29  5.400339    1.0\n",
       "3 2016-11-18 12:00:00  4.56  56.59  2.42  5.540188    1.0\n",
       "4 2016-11-18 14:00:00  1.07  86.50  3.32  5.529431    1.0"
      ]
     },
     "execution_count": 189,
     "metadata": {},
     "output_type": "execute_result"
    }
   ],
   "source": [
    "df = pd.read_csv('../data/interim/roseg_measurements.csv', parse_dates=['time'])\n",
    "del df['doy']\n",
    "df.head()"
   ]
  },
  {
   "cell_type": "markdown",
   "metadata": {
    "nbpresent": {
     "id": "d63db050-0cd2-47da-bef7-27146090e1a5"
    }
   },
   "source": [
    "### Estimating total water consumption"
   ]
  },
  {
   "cell_type": "code",
   "execution_count": 190,
   "metadata": {},
   "outputs": [
    {
     "name": "stdout",
     "output_type": "stream",
     "text": [
      "Assuming constant discharge of 0.50 litre/s\n"
     ]
    }
   ],
   "source": [
    "rate=0.5\n",
    "print('Assuming constant discharge of %0.2f litre/s' % (rate))"
   ]
  },
  {
   "cell_type": "code",
   "execution_count": 191,
   "metadata": {
    "nbpresent": {
     "id": "95de7b22-3c3d-4973-be2a-ee9974f9b302"
    }
   },
   "outputs": [],
   "source": [
    "df['delta_time'] = (df['time']-df['time'].shift()).fillna(0)\n",
    "df['delta_height'] = (df['height']-df['height'].shift()).fillna(0)\n",
    "df['growth_rate'] = (df['delta_height']*100)/(df['delta_time'].apply(lambda x: x.total_seconds()/3600))\n",
    "df['delta_time']=df['delta_time'].apply(lambda x: x.total_seconds())"
   ]
  },
  {
   "cell_type": "code",
   "execution_count": 192,
   "metadata": {
    "nbpresent": {
     "id": "5234a021-2c59-4a3b-be9d-866519da4b05"
    }
   },
   "outputs": [
    {
     "name": "stdout",
     "output_type": "stream",
     "text": [
      "The fountain worked approximately for 17 days from 17th November 2016 to 7th April 2017(in 141 days)\n",
      " 1540 cubic metres water used\n"
     ]
    }
   ],
   "source": [
    "df['water_used']=df['delta_time']*df['water']*rate/1000\n",
    "total_water=df['water_used'].sum()\n",
    "print('The fountain worked approximately for %d days from 17th November 2016 to 7th April 2017(in 141 days)' %(df['water_used'].sum()*1000//3600//24))\n",
    "print(' %d cubic metres water used' % (total_water))"
   ]
  },
  {
   "cell_type": "code",
   "execution_count": 193,
   "metadata": {
    "nbpresent": {
     "id": "89b67365-b593-4a32-959b-27323880d2b6"
    }
   },
   "outputs": [],
   "source": [
    "df['water_used']=df['delta_time']*df['water']/3600"
   ]
  },
  {
   "cell_type": "code",
   "execution_count": 194,
   "metadata": {
    "nbpresent": {
     "id": "84d042f1-9bde-435c-8ab5-c27e817bcd5d"
    }
   },
   "outputs": [
    {
     "data": {
      "text/plain": [
       "<matplotlib.axes._subplots.AxesSubplot at 0x1136351d0>"
      ]
     },
     "execution_count": 194,
     "metadata": {},
     "output_type": "execute_result"
    },
    {
     "data": {
      "image/png": "[encoded data removed]",
      "text/plain": [
       "<Figure size 864x576 with 1 Axes>"
      ]
     },
     "metadata": {},
     "output_type": "display_data"
    }
   ],
   "source": [
    "df[['water_used']].plot(figsize=(12,8), grid=True)"
   ]
  },
  {
   "cell_type": "markdown",
   "metadata": {
    "nbpresent": {
     "id": "3864e69c-fded-4a8d-b30b-699f14dd2e92"
    }
   },
   "source": [
    "### Freezing Efficiency\n",
    "Using the total amount of water consumed by Ice Stupa, we can estimate efficiency of freezing."
   ]
  },
  {
   "cell_type": "code",
   "execution_count": 195,
   "metadata": {
    "nbpresent": {
     "id": "37274036-e367-4c38-817c-2a4ff7a37cbd"
    }
   },
   "outputs": [
    {
     "name": "stdout",
     "output_type": "stream",
     "text": [
      " The maximum height of the Ice Stupa was 9 m and the base diameter was 8.95 m\n"
     ]
    }
   ],
   "source": [
    "print(' The maximum height of the Ice Stupa was %d m and the base diameter was 8.95 m' % (df['height'].max()))"
   ]
  },
  {
   "cell_type": "code",
   "execution_count": 196,
   "metadata": {
    "nbpresent": {
     "id": "d3ad6f4d-852f-427f-9682-d59774c42b32"
    }
   },
   "outputs": [
    {
     "name": "stdout",
     "output_type": "stream",
     "text": [
      " So the the water used is 223 cubic meters\n"
     ]
    }
   ],
   "source": [
    "frozen_water=8.95*8.95*3.14/12*df['height'].max()*100/90\n",
    "print(' So the the water used is %d cubic meters' % (frozen_water))"
   ]
  },
  {
   "cell_type": "code",
   "execution_count": 197,
   "metadata": {
    "nbpresent": {
     "id": "32f8a84a-49e2-4820-85ef-a69c219b470c"
    }
   },
   "outputs": [
    {
     "name": "stdout",
     "output_type": "stream",
     "text": [
      " So 1316 cubic meters was lost due to evaporation and melting processes\n",
      " The efficiency was 14 percent\n"
     ]
    }
   ],
   "source": [
    "lost_water=total_water-frozen_water\n",
    "print(' So %d cubic meters was lost due to evaporation and melting processes' % (lost_water))\n",
    "print(' The efficiency was %d percent' % (frozen_water/total_water*100))"
   ]
  },
  {
   "cell_type": "markdown",
   "metadata": {},
   "source": [
    "This low efficiency could be because the fountain might not have been operational most of the nights due to freezing of pipeline.."
   ]
  },
  {
   "cell_type": "code",
   "execution_count": null,
   "metadata": {},
   "outputs": [],
   "source": []
  }
 ],
 "metadata": {
  "kernelspec": {
   "display_name": "Python [default]",
   "language": "python",
   "name": "python3"
  },
  "language_info": {
   "codemirror_mode": {
    "name": "ipython",
    "version": 3
   },
   "file_extension": ".py",
   "mimetype": "text/x-python",
   "name": "python",
   "nbconvert_exporter": "python",
   "pygments_lexer": "ipython3",
   "version": "3.5.5"
  }
 },
 "nbformat": 4,
 "nbformat_minor": 2
}
